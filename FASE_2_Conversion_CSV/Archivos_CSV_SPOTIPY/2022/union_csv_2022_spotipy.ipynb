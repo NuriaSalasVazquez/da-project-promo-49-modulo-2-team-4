{
 "cells": [
  {
   "cell_type": "code",
   "execution_count": 2,
   "metadata": {},
   "outputs": [
    {
     "name": "stdout",
     "output_type": "stream",
     "text": [
      "Directorio actual de trabajo: /home/sara-arranz/ADALAB/MÓDULO 2. APIs + SQL/PROYECTO/da-project-promo-49-modulo-2-team-4/FASE 2. CONVERSIÓN CSV/Archivos CSV SPOTIPY/2022\n"
     ]
    }
   ],
   "source": [
    "#Directorio actual de trabajo\n",
    "\n",
    "import os\n",
    "import pandas as pd\n",
    "\n",
    "# Muestra el directorio de trabajo actual\n",
    "print(\"Directorio actual de trabajo:\", os.getcwd())"
   ]
  },
  {
   "cell_type": "code",
   "execution_count": 4,
   "metadata": {},
   "outputs": [],
   "source": [
    "df1=pd.read_csv(\"/home/sara-arranz/ADALAB/MÓDULO 2. APIs + SQL/PROYECTO/da-project-promo-49-modulo-2-team-4/FASE 2. CONVERSIÓN CSV/Archivos CSV SPOTIPY/2022/indie2022.csv\")"
   ]
  },
  {
   "cell_type": "code",
   "execution_count": 5,
   "metadata": {},
   "outputs": [],
   "source": [
    "df2=pd.read_csv(\"/home/sara-arranz/ADALAB/MÓDULO 2. APIs + SQL/PROYECTO/da-project-promo-49-modulo-2-team-4/FASE 2. CONVERSIÓN CSV/Archivos CSV SPOTIPY/2022/pop2022.csv\")"
   ]
  },
  {
   "cell_type": "code",
   "execution_count": 6,
   "metadata": {},
   "outputs": [],
   "source": [
    "df3=pd.read_csv(\"/home/sara-arranz/ADALAB/MÓDULO 2. APIs + SQL/PROYECTO/da-project-promo-49-modulo-2-team-4/FASE 2. CONVERSIÓN CSV/Archivos CSV SPOTIPY/2022/rap2022.csv\")\n"
   ]
  },
  {
   "cell_type": "code",
   "execution_count": null,
   "metadata": {},
   "outputs": [],
   "source": [
    "df4=pd.read_csv(\"/home/sara-arranz/ADALAB/MÓDULO 2. APIs + SQL/PROYECTO/da-project-promo-49-modulo-2-team-4/FASE 2. CONVERSIÓN CSV/Archivos CSV SPOTIPY/2022/reggaeton2022.csv\")"
   ]
  },
  {
   "cell_type": "code",
   "execution_count": 8,
   "metadata": {},
   "outputs": [],
   "source": [
    "result = pd.concat([df1, df2, df3,df4], ignore_index=False)"
   ]
  },
  {
   "cell_type": "code",
   "execution_count": 9,
   "metadata": {},
   "outputs": [],
   "source": [
    "result.to_csv(\"total_2022_Spotipy.csv\")"
   ]
  }
 ],
 "metadata": {
  "kernelspec": {
   "display_name": "base",
   "language": "python",
   "name": "python3"
  },
  "language_info": {
   "codemirror_mode": {
    "name": "ipython",
    "version": 3
   },
   "file_extension": ".py",
   "mimetype": "text/x-python",
   "name": "python",
   "nbconvert_exporter": "python",
   "pygments_lexer": "ipython3",
   "version": "3.11.11"
  }
 },
 "nbformat": 4,
 "nbformat_minor": 2
}
