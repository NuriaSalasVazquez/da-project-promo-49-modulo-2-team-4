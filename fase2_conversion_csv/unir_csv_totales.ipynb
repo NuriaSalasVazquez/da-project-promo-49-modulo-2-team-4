{
 "cells": [
  {
   "cell_type": "code",
   "execution_count": null,
   "metadata": {},
   "outputs": [],
   "source": [
    "import pandas as pd"
   ]
  },
  {
   "cell_type": "code",
   "execution_count": null,
   "metadata": {},
   "outputs": [],
   "source": [
    "#cada una pone su cvs de lastFM y luego igual de spotipy\n",
    "df1=pd.read_csv(\"da-project-promo-49-modulo-2-team-4/fase_1_extraccion_datos_last_fm/Archivos CSV FM/LastFM_indie2018.csv\")\n",
    "df2=pd.read_csv(\"da-project-promo-49-modulo-2-team-4/fase_1_extraccion_datos_last_fm/Archivos CSV FM/LastFM_pop2018.csv\")\n",
    "df3=pd.read_csv(\"da-project-promo-49-modulo-2-team-4/fase_1_extraccion_datos_last_fm/Archivos CSV FM/LastFM_rap2018.csv\")\n",
    "df4=pd.read_csv(\"da-project-promo-49-modulo-2-team-4/fase_1_extraccion_datos_last_fm/Archivos CSV FM/LastFM_reggaeton2018.csv\")"
   ]
  },
  {
   "cell_type": "code",
   "execution_count": null,
   "metadata": {},
   "outputs": [],
   "source": [
    "result = pd.concat([df1, df2, df3,df4], ignore_index=False)"
   ]
  },
  {
   "cell_type": "code",
   "execution_count": null,
   "metadata": {},
   "outputs": [],
   "source": [
    "result.to_csv(\"total_datos_lastFM_2018.csv\")"
   ]
  }
 ],
 "metadata": {
  "kernelspec": {
   "display_name": "base",
   "language": "python",
   "name": "python3"
  },
  "language_info": {
   "codemirror_mode": {
    "name": "ipython",
    "version": 3
   },
   "file_extension": ".py",
   "mimetype": "text/x-python",
   "name": "python",
   "nbconvert_exporter": "python",
   "pygments_lexer": "ipython3",
   "version": "3.12.7"
  }
 },
 "nbformat": 4,
 "nbformat_minor": 2
}
