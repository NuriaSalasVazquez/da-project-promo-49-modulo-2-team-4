{
 "cells": [
  {
   "cell_type": "code",
   "execution_count": 1,
   "metadata": {},
   "outputs": [],
   "source": [
    "import requests\n",
    "\n",
    "import re\n",
    "\n",
    "import spotipy\n",
    "from spotipy.oauth2 import SpotifyClientCredentials\n",
    "\n"
   ]
  },
  {
   "cell_type": "code",
   "execution_count": 2,
   "metadata": {},
   "outputs": [],
   "source": [
    "# Coloca tus credenciales aquí\n",
    "CLIENT_ID = '1c4235f6592a40ab93f9323d16fb0053'\n",
    "CLIENT_SECRET = '1f0829bebff44673ad5052601a9a8692'\n",
    "\n",
    "# Autenticación\n",
    "auth_manager = SpotifyClientCredentials(client_id=CLIENT_ID, client_secret=CLIENT_SECRET)\n",
    "sp = spotipy.Spotify(auth_manager=auth_manager)"
   ]
  },
  {
   "cell_type": "code",
   "execution_count": null,
   "metadata": {},
   "outputs": [],
   "source": [
    "genero2019 =[\"reggaeton\",\"pop\",\"rap\",\"indie\"]\n",
    "\n",
    "for genero in genero2019:\n",
    "    generos2019 = sp.search(q=f\"genre:{genero},year:2019\", limit=50, offset=0, type='track', market='ES')"
   ]
  },
  {
   "cell_type": "code",
   "execution_count": null,
   "metadata": {},
   "outputs": [],
   "source": [
    "def limpiar_datos_generos2019(genero2019):\n",
    "    \"\"\" \n",
    "    función para limpiar los datos de la API\n",
    "    \"\"\"\n",
    "#Creamos diciconario vacío que vamos a rellenar con la iteracion:\n",
    "\n",
    "    diccionario_util_reggaeton2019 = {'género': 'reggaeton', #en este caso, rock es predeterminado, cuando aprendamos a sacar varios géneros musicales a la vez\n",
    "                              'canción': [], #pongo la canción antes que el artista, porque lo importante son las canciones. Puede haber varios artistas por cacion.\n",
    "                              'id_canción': [],\n",
    "                              'artista': []\n",
    "                              }\n",
    "    diccionario_util_pop2019 = {'género': 'reggaeton', #en este caso, rock es predeterminado, cuando aprendamos a sacar varios géneros musicales a la vez\n",
    "                              'canción': [], #pongo la canción antes que el artista, porque lo importante son las canciones. Puede haber varios artistas por cacion.\n",
    "                              'id_canción': [],\n",
    "                              'artista': []\n",
    "                              }\n",
    "    diccionario_util_rap2019 = {'género': 'reggaeton', #en este caso, rock es predeterminado, cuando aprendamos a sacar varios géneros musicales a la vez\n",
    "                              'canción': [], #pongo la canción antes que el artista, porque lo importante son las canciones. Puede haber varios artistas por cacion.\n",
    "                              'id_canción': [],\n",
    "                              'artista': []\n",
    "                              }\n",
    "    diccionario_util_indie2019 = {'género': 'reggaeton', #en este caso, rock es predeterminado, cuando aprendamos a sacar varios géneros musicales a la vez\n",
    "                              'canción': [], #pongo la canción antes que el artista, porque lo importante son las canciones. Puede haber varios artistas por cacion.\n",
    "                              'id_canción': [],\n",
    "                              'artista': []\n",
    "                              }\n",
    "\n",
    "\n",
    "#Iteramos para rellenar el diccionario:\n",
    "    for element in genero2019['tracks']['items']:\n",
    "        diccionario_util_indie2019['canción'].append(element['name'])\n",
    "        diccionario_util_indie2019['id_canción'].append(element['id'])\n",
    "        for el in element['artists']:\n",
    "            diccionario_util_indie2019['artista'].append(el['name'])\n",
    "\n",
    "    return diccionario_util_indie2019"
   ]
  }
 ],
 "metadata": {
  "kernelspec": {
   "display_name": "Python 3",
   "language": "python",
   "name": "python3"
  },
  "language_info": {
   "codemirror_mode": {
    "name": "ipython",
    "version": 3
   },
   "file_extension": ".py",
   "mimetype": "text/x-python",
   "name": "python",
   "nbconvert_exporter": "python",
   "pygments_lexer": "ipython3",
   "version": "3.12.7"
  }
 },
 "nbformat": 4,
 "nbformat_minor": 2
}
