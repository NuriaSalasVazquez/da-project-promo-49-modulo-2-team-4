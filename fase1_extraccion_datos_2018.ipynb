{
 "cells": [
  {
   "cell_type": "code",
   "execution_count": 2,
   "metadata": {},
   "outputs": [
    {
     "name": "stdout",
     "output_type": "stream",
     "text": [
      "Requirement already satisfied: spotipy in c:\\users\\anamo\\anaconda3\\lib\\site-packages (2.25.0)Note: you may need to restart the kernel to use updated packages.\n",
      "\n",
      "Requirement already satisfied: redis>=3.5.3 in c:\\users\\anamo\\anaconda3\\lib\\site-packages (from spotipy) (5.2.1)\n",
      "Requirement already satisfied: requests>=2.25.0 in c:\\users\\anamo\\anaconda3\\lib\\site-packages (from spotipy) (2.32.3)\n",
      "Requirement already satisfied: urllib3>=1.26.0 in c:\\users\\anamo\\anaconda3\\lib\\site-packages (from spotipy) (2.2.3)\n",
      "Requirement already satisfied: charset-normalizer<4,>=2 in c:\\users\\anamo\\anaconda3\\lib\\site-packages (from requests>=2.25.0->spotipy) (3.3.2)\n",
      "Requirement already satisfied: idna<4,>=2.5 in c:\\users\\anamo\\anaconda3\\lib\\site-packages (from requests>=2.25.0->spotipy) (3.7)\n",
      "Requirement already satisfied: certifi>=2017.4.17 in c:\\users\\anamo\\anaconda3\\lib\\site-packages (from requests>=2.25.0->spotipy) (2024.12.14)\n"
     ]
    }
   ],
   "source": [
    "pip install spotipy"
   ]
  },
  {
   "cell_type": "code",
   "execution_count": 3,
   "metadata": {},
   "outputs": [],
   "source": [
    "## - Explicar como usar la libreria spotipy \n",
    "import spotipy\n",
    "from spotipy.oauth2 import SpotifyClientCredentials\n",
    "import pandas as pd"
   ]
  },
  {
   "cell_type": "code",
   "execution_count": 4,
   "metadata": {},
   "outputs": [
    {
     "name": "stdout",
     "output_type": "stream",
     "text": [
      "✅ Autenticación correcta\n"
     ]
    }
   ],
   "source": [
    "# Coloca tus credenciales aquí\n",
    "CLIENT_ID = '00b3c07cbf3b41fe80275bf332b3ca96'\n",
    "CLIENT_SECRET = '10e9e68a55f341c292dbd38c6349f314'\n",
    "\n",
    "# Autenticación\n",
    "auth_manager = SpotifyClientCredentials(client_id=CLIENT_ID, client_secret=CLIENT_SECRET)\n",
    "sp = spotipy.Spotify(auth_manager=auth_manager)\n",
    "try:\n",
    "    sp = spotipy.Spotify(auth_manager=SpotifyClientCredentials(client_id=CLIENT_ID, client_secret=CLIENT_SECRET))\n",
    "    print(\"✅ Autenticación correcta\")\n",
    "except Exception as e:\n",
    "    print(f\"❌ Error de autenticación: {e}\")"
   ]
  },
  {
   "cell_type": "code",
   "execution_count": 5,
   "metadata": {},
   "outputs": [
    {
     "name": "stdout",
     "output_type": "stream",
     "text": [
      "Géneros de Bad Bunny: ['reggaeton', 'trap latino', 'latin', 'urbano latino']\n"
     ]
    }
   ],
   "source": [
    "#No se pueden buscar los géneros de todo spotify, se pueden buscar por artista\n",
    "artist_name = \"Bad Bunny\"\n",
    "results = sp.search(q=artist_name, type=\"artist\", limit=1)\n",
    "\n",
    "if results['artists']['items']:\n",
    "    artist = results['artists']['items'][0]\n",
    "    print(f\"Géneros de {artist_name}: {artist['genres']}\")\n",
    "else:\n",
    "    print(\"Artista no encontrado.\")\n"
   ]
  },
  {
   "cell_type": "code",
   "execution_count": 6,
   "metadata": {},
   "outputs": [],
   "source": [
    "#así solo sacamos de 50 en 50, como habia hecho cesar\n",
    "# sp.search(q = \"genre:rock year:2018\", limit=50, offset=200, type='track', market=\"ES\")"
   ]
  },
  {
   "cell_type": "markdown",
   "metadata": {},
   "source": [
    "- POP AÑO 2018"
   ]
  },
  {
   "cell_type": "code",
   "execution_count": 7,
   "metadata": {},
   "outputs": [],
   "source": [
    "#Falta el bucle\n",
    "\n",
    "# ejemplo hecho en clase uno a uno\n",
    "# sp.search(q = \"genre:pop year:2018\", limit=50, offset=0, type='track', market=\"ES\")"
   ]
  },
  {
   "cell_type": "code",
   "execution_count": 8,
   "metadata": {},
   "outputs": [],
   "source": [
    "query = \"genre:pop year:2018\"\n",
    "limit = 50\n",
    "offsets = [0, 50, 100, 150, 200, 250, 300, 350, 400, 450, 500, 550, 600, 650, 700, 750, 800, 850, 900]\n",
    "market = \"ES\""
   ]
  },
  {
   "cell_type": "code",
   "execution_count": 9,
   "metadata": {},
   "outputs": [],
   "source": [
    "# Lista para almacenar todos los que he ido sacando de 50 en 50\n",
    "tracks_data = []"
   ]
  },
  {
   "cell_type": "code",
   "execution_count": 10,
   "metadata": {},
   "outputs": [
    {
     "name": "stdout",
     "output_type": "stream",
     "text": [
      "                                                  name           artist  \\\n",
      "0                                      Cuando Nadie Ve            Morat   \n",
      "1                                      Besos En Guerra            Morat   \n",
      "2                                 Qué Bonito Es Querer  Manuel Carrasco   \n",
      "3                                             No Se Va            Morat   \n",
      "4                          Always Remember Us This Way        Lady Gaga   \n",
      "..                                                 ...              ...   \n",
      "945  High Heels Te Nachche (From \"Ki &amp; Ka\") (fe...       Meet Bros.   \n",
      "946                                        After Party     Deejay Telio   \n",
      "947                                                Doe      Larry Gaaga   \n",
      "948                                           1000 RPM       The Motans   \n",
      "949                                   Гай, зелений гай   Дмитро Яремчук   \n",
      "\n",
      "     popularity                track_id  \n",
      "0            74  71iAechwVKGu26pahzFL0k  \n",
      "1            74  1mlGScrDQqHqmhdIqE8MmA  \n",
      "2            60  6uzGmmQ4CuG9HvZktEy0LF  \n",
      "3            74  4khWEpnaijN0G1x019Uzdr  \n",
      "4            80  2rbDhOo9Fh61Bbu23T2qCk  \n",
      "..          ...                     ...  \n",
      "945          60  0MAL4lkJiJgCwGdO0Q264f  \n",
      "946          39  4Ssh6BrNzS4hv3SMkfPFGA  \n",
      "947          45  5BGDsaokGCwQ9OpeVy0MUs  \n",
      "948          36  3wCbypdAZsTmTLB6LRoegZ  \n",
      "949          31  3U0VIb2GXo67L4f6YQXKLL  \n",
      "\n",
      "[950 rows x 4 columns]\n"
     ]
    }
   ],
   "source": [
    "# Extraer datos y pasarlo a dataframe\n",
    "for offset in offsets:\n",
    "    results = sp.search(q=query, limit=limit, offset=offset, type='track', market=market)\n",
    "    tracks = results['tracks']['items']\n",
    "    \n",
    "    for track in tracks:\n",
    "        tracks_data.append({\n",
    "            \"name\": track[\"name\"],\n",
    "            \"artist\": track[\"artists\"][0][\"name\"],\n",
    "            \"popularity\": track[\"popularity\"],\n",
    "            \"track_id\": track[\"id\"]\n",
    "        })\n",
    "\n",
    "df = pd.DataFrame(tracks_data)\n",
    "print(df)"
   ]
  }
 ],
 "metadata": {
  "kernelspec": {
   "display_name": "base",
   "language": "python",
   "name": "python3"
  },
  "language_info": {
   "codemirror_mode": {
    "name": "ipython",
    "version": 3
   },
   "file_extension": ".py",
   "mimetype": "text/x-python",
   "name": "python",
   "nbconvert_exporter": "python",
   "pygments_lexer": "ipython3",
   "version": "3.12.7"
  }
 },
 "nbformat": 4,
 "nbformat_minor": 2
}
